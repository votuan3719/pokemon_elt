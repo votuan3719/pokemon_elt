{
 "cells": [
  {
   "cell_type": "code",
   "execution_count": null,
   "id": "ba276372",
   "metadata": {},
   "outputs": [],
   "source": [
    "import requests\n",
    "import time"
   ]
  },
  {
   "cell_type": "code",
   "execution_count": 2,
   "id": "d2faaa58",
   "metadata": {},
   "outputs": [],
   "source": [
    "TCG_API_KEY = '831a5c03-fe5a-4632-b875-4a5144a170e3'"
   ]
  },
  {
   "cell_type": "code",
   "execution_count": null,
   "id": "7ff9d7d2",
   "metadata": {},
   "outputs": [],
   "source": [
    "def get_cards(page, page_size=150, max_retries=3):\n",
    "    url = 'https://api.pokemontcg.io/v2/cards'\n",
    "    headers = {\n",
    "        'X-Api-Key': TCG_API_KEY\n",
    "    }\n",
    "    params = {\n",
    "        'page': page, \n",
    "        'pageSize': page_size\n",
    "    }\n",
    "    \n",
    "    for attempt in range(max_retries + 1):\n",
    "\n",
    "        try:\n",
    "            response = requests.get(url, headers=headers, params=params, timeout=120)\n",
    "            response.raise_for_status()\n",
    "            data = response.json()\n",
    "            \n",
    "            return data   \n",
    "        except requests.exceptions.RequestException as e:\n",
    "            print(f'Error fetching page {page}: {e}')\n",
    "\n",
    "            if attempt == max_retries:\n",
    "                print(f'Failed to fetch page {page} after {max_retries} retries')\n",
    "                return page\n",
    "            else:\n",
    "                wait_time = 2 ** (attempt + 1)\n",
    "                time.sleep(wait_time)"
   ]
  },
  {
   "cell_type": "code",
   "execution_count": 8,
   "id": "7b2369c8",
   "metadata": {},
   "outputs": [],
   "source": [
    "def get_cards(page=1):\n",
    "    binder = []\n",
    "    missed_pages = []\n",
    "\n",
    "    while True:\n",
    "        info = fetch_cards(page)\n",
    "        \n",
    "        if isinstance(info, dict):\n",
    "            count = info.get('count', 0)\n",
    "            if (count > 0): \n",
    "                cards = info.get('data', None)\n",
    "                binder.extend(cards)\n",
    "            else:\n",
    "                break \n",
    "        else:\n",
    "            missed_pages.append(page)\n",
    "        page += 1\n",
    "    \n",
    "    while missed_pages:\n",
    "        page = missed_pages.pop()\n",
    "        print(f'Second attempt for page {page}.')\n",
    "        info = fetch_cards(page)\n",
    "        \n",
    "        if isinstance(info, dict):  \n",
    "            count = info.get('count', 0)\n",
    "            if (count > 0):\n",
    "                cards = info.get('data', None)\n",
    "                binder.extend(cards)\n",
    "        else:\n",
    "            print(f'Second attempt failed for page {page}.')\n",
    "            \n",
    "    return binder"
   ]
  },
  {
   "cell_type": "code",
   "execution_count": null,
   "id": "98bda8a5",
   "metadata": {},
   "outputs": [],
   "source": [
    "cards = get_cards()"
   ]
  },
  {
   "cell_type": "code",
   "execution_count": 10,
   "id": "d2427726",
   "metadata": {},
   "outputs": [
    {
     "data": {
      "text/plain": [
       "19500"
      ]
     },
     "execution_count": 10,
     "metadata": {},
     "output_type": "execute_result"
    }
   ],
   "source": [
    "len(cards)"
   ]
  },
  {
   "cell_type": "code",
   "execution_count": null,
   "id": "9c0331a7",
   "metadata": {},
   "outputs": [],
   "source": [
    "import os\n",
    "from pathlib import Path\n",
    "import json"
   ]
  },
  {
   "cell_type": "code",
   "execution_count": null,
   "id": "a869b1d3",
   "metadata": {},
   "outputs": [],
   "source": [
    "with open('cards.json', 'w') as file:\n",
    "    json.dump(cards, file)"
   ]
  },
  {
   "cell_type": "code",
   "execution_count": null,
   "id": "c70907fb",
   "metadata": {},
   "outputs": [],
   "source": [
    "with open(\"cards.json\", \"r\") as file:\n",
    "    cards = json.load(file)"
   ]
  },
  {
   "cell_type": "code",
   "execution_count": 45,
   "id": "3b5409ff",
   "metadata": {},
   "outputs": [],
   "source": [
    "out_dir = 'cards'\n",
    "os.makedirs(out_dir, exist_ok=True)"
   ]
  },
  {
   "cell_type": "code",
   "execution_count": 46,
   "id": "d4e70f65",
   "metadata": {},
   "outputs": [],
   "source": [
    "for card in cards:\n",
    "    id = card['id']\n",
    "    file_name = f\"{id}.json\"\n",
    "    path = os.path.join(out_dir, file_name)\n",
    "    with open(path, 'w') as file:\n",
    "        json.dump(card, file)"
   ]
  },
  {
   "cell_type": "code",
   "execution_count": null,
   "id": "a6dd6e82",
   "metadata": {},
   "outputs": [],
   "source": [
    "from snowflake.snowpark import Session\n",
    "from datetime import datetime"
   ]
  },
  {
   "cell_type": "code",
   "execution_count": null,
   "id": "91be4319",
   "metadata": {},
   "outputs": [],
   "source": [
    "connection = {\n",
    "    \"account\": \"NAEWJSH-MN92912\",\n",
    "    \"user\": \"VOTUAN3719\",\n",
    "    \"password\": \"Dougotrice1036\",\n",
    "    \"role\": \"ACCOUNTADMIN\",\n",
    "    \"warehouse\": \"COMPUTE_WH\",\n",
    "    \"database\": \"POKEMON\",\n",
    "    \"schema\": \"PUBLIC\",\n",
    "}\n",
    "session = Session.builder.configs(connection).create()"
   ]
  },
  {
   "cell_type": "code",
   "execution_count": 69,
   "id": "47100277",
   "metadata": {},
   "outputs": [
    {
     "data": {
      "text/plain": [
       "<snowflake.snowpark.session.Session at 0x13abcc090>"
      ]
     },
     "execution_count": 69,
     "metadata": {},
     "output_type": "execute_result"
    }
   ],
   "source": [
    "session"
   ]
  },
  {
   "cell_type": "code",
   "execution_count": 70,
   "id": "dc298ff3",
   "metadata": {},
   "outputs": [
    {
     "data": {
      "text/plain": [
       "[Row(status='Stage area CARDS successfully created.')]"
      ]
     },
     "execution_count": 70,
     "metadata": {},
     "output_type": "execute_result"
    }
   ],
   "source": [
    "session.sql(\"CREATE OR REPLACE STAGE cards\").collect()"
   ]
  },
  {
   "cell_type": "code",
   "execution_count": null,
   "id": "2e222455",
   "metadata": {},
   "outputs": [],
   "source": [
    "folder = Path(\"cards\").resolve()\n",
    "date = datetime.now().strftime(\"%Y-%m-%d\")\n",
    "session.file.put(\n",
    "    f\"file://{folder}/*.json\",   \n",
    "    f\"@cards/{date}\",\n",
    "    auto_compress=False,\n",
    "    overwrite=True,\n",
    ")"
   ]
  },
  {
   "cell_type": "code",
   "execution_count": 74,
   "id": "03abc5bd",
   "metadata": {},
   "outputs": [],
   "source": [
    "session.close()"
   ]
  }
 ],
 "metadata": {
  "kernelspec": {
   "display_name": "pokemon",
   "language": "python",
   "name": "python3"
  },
  "language_info": {
   "codemirror_mode": {
    "name": "ipython",
    "version": 3
   },
   "file_extension": ".py",
   "mimetype": "text/x-python",
   "name": "python",
   "nbconvert_exporter": "python",
   "pygments_lexer": "ipython3",
   "version": "3.11.13"
  }
 },
 "nbformat": 4,
 "nbformat_minor": 5
}
